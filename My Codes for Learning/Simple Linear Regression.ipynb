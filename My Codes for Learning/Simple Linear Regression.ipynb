{
 "cells": [
  {
   "cell_type": "markdown",
   "metadata": {},
   "source": [
    "# Univariate Linear Regression"
   ]
  },
  {
   "cell_type": "code",
   "execution_count": null,
   "metadata": {},
   "outputs": [],
   "source": [
    "import numpy as np\n",
    "import matplotlib as mpl\n",
    "mpl.use('TkAgg')\n",
    "import matplotlib.pyplot as plt\n",
    "import matplotlib.animation as animation\n",
    "import pandas as pd\n",
    "from sklearn import datasets\n",
    "from sklearn.model_selection import train_test_split\n",
    "import random\n",
    "import math"
   ]
  },
  {
   "cell_type": "markdown",
   "metadata": {},
   "source": [
    "### Load dataset"
   ]
  },
  {
   "cell_type": "markdown",
   "metadata": {},
   "source": [
    "### Random Data Points"
   ]
  },
  {
   "cell_type": "code",
   "execution_count": null,
   "metadata": {},
   "outputs": [],
   "source": [
    "X = np.random.randint(5,100, size=50)\n",
    "y = np.random.randint(5,100, size=50)"
   ]
  },
  {
   "cell_type": "markdown",
   "metadata": {},
   "source": [
    "### Organised Data Points"
   ]
  },
  {
   "cell_type": "code",
   "execution_count": null,
   "metadata": {},
   "outputs": [],
   "source": [
    "X = np.random.randint(5,100,size=50)\n",
    "y = X*np.pi/4 + X*np.pi/5"
   ]
  },
  {
   "cell_type": "code",
   "execution_count": null,
   "metadata": {},
   "outputs": [],
   "source": [
    "y"
   ]
  },
  {
   "cell_type": "markdown",
   "metadata": {},
   "source": [
    "## Dividing training and testing set"
   ]
  },
  {
   "cell_type": "code",
   "execution_count": null,
   "metadata": {},
   "outputs": [],
   "source": [
    "X_train, X_test, y_train, y_test = train_test_split(X, y, test_size=0.2, random_state=42)"
   ]
  },
  {
   "cell_type": "markdown",
   "metadata": {},
   "source": [
    "## Preparing for plotting"
   ]
  },
  {
   "cell_type": "code",
   "execution_count": null,
   "metadata": {},
   "outputs": [],
   "source": []
  },
  {
   "cell_type": "code",
   "execution_count": null,
   "metadata": {},
   "outputs": [],
   "source": [
    "x = np.arange(0,100,1) \n",
    "y = np.zeros((100,))\n",
    "\n",
    "fig, ax = plt.subplots(2,figsize=(5,5))\n",
    "ax[0].set(xlim=(0,100), ylim=(0,100))\n",
    "#ax[1].set(xlim=(0,100), ylim=(0,100))\n",
    "\n",
    "line = ax[0].plot(x, y, color='blue', lw=2)[0]\n",
    "ax[0].scatter(X_train, y_train,c='r')\n"
   ]
  },
  {
   "cell_type": "code",
   "execution_count": null,
   "metadata": {},
   "outputs": [],
   "source": [
    "m = random.uniform(0,np.pi)\n",
    "c = random.uniform(0,50) \n"
   ]
  },
  {
   "cell_type": "markdown",
   "metadata": {},
   "source": [
    "## Gradient Descent Function"
   ]
  },
  {
   "cell_type": "markdown",
   "metadata": {},
   "source": [
    "* This function will take in **alpha**,training xs(X_train) and ys(y_train)\n",
    "* This function will return new **m** and **c** for every iteration over the entire training set\n",
    "* The greater the number of iterations the better the fitting"
   ]
  },
  {
   "cell_type": "code",
   "execution_count": null,
   "metadata": {},
   "outputs": [],
   "source": [
    "def GradientDescent(alpha, X_train, y_train) : \n",
    "    global m\n",
    "    global c\n",
    "    #Summation of derivative of Cost Function wrt c\n",
    "    sum_for_c = 0\n",
    "    #Summation of derivative of Cost Function wrt m\n",
    "    sum_for_m = 0\n",
    "    ratio = alpha/len(X_train)\n",
    "    #Iterating over the entire training set\n",
    "    for x,y in zip(X_train,y_train) : \n",
    "        #ratio is multiplied by derivative of CF wrt c\n",
    "        sum_for_c = sum_for_c + ratio*(m*x + c - y)\n",
    "        #ratio is multiplied by derivative of CF wrt m\n",
    "        sum_for_m = sum_for_m + ratio*(m*x + c - y)*x\n",
    "    \n",
    "    #Now we set the new value of c and m as : \n",
    "    c = c - sum_for_c\n",
    "    m = m - sum_for_m\n",
    "    return m,c"
   ]
  },
  {
   "cell_type": "markdown",
   "metadata": {},
   "source": [
    "## Gradient Descent on X_train and y_train\n",
    "+ Data is simple set of (x,y) points where x is independent variable and y is dependent variable\n",
    "+ Hypothesis Function is h(x) = mx + c\n",
    "+ Cost function is : (1/2*len(X_train))*Summation(h(x)-y)^2\n",
    "+ Cost Function is a function of m and c\n",
    "+ Summation is over all the training examples\n",
    "+ Cost funciton is a squared error function\n",
    "+ We have to minimize the cost function\n",
    "+ Updation of value : \n",
    "+ m = m - alpha*derivativeOfCostFunction\n",
    "+ c = c - alpha*derivativeofCostFunction\n",
    "+ The above two steps will be carried uptil there is very slight change in value of m or c or uptil certain steps\n",
    "+ Above algorithm is called Gradient Descent\n",
    "+ The number of times this animate function is called is the number of times GD will run and that is the number of steps\n"
   ]
  },
  {
   "cell_type": "markdown",
   "metadata": {},
   "source": [
    "## Cost Function"
   ]
  },
  {
   "cell_type": "code",
   "execution_count": null,
   "metadata": {},
   "outputs": [],
   "source": [
    "def CostFunction(m, c, X_train, y_train) : \n",
    "    ratio = (1/2)*((len(X_train)))\n",
    "    summation = 0\n",
    "    for x,y in zip(X_train, y_train) : \n",
    "        summation = summation + (m*x + c - y)**2\n",
    "    return summation/len(X_train)\n",
    "\n"
   ]
  },
  {
   "cell_type": "code",
   "execution_count": null,
   "metadata": {},
   "outputs": [],
   "source": [
    "%matplotlib inline"
   ]
  },
  {
   "cell_type": "code",
   "execution_count": null,
   "metadata": {},
   "outputs": [],
   "source": [
    "def animate(i,m,c) : \n",
    "    alpha = 0.0001\n",
    "    m,c = GradientDescent(alpha, X_train, y_train)\n",
    "    line.set_ydata([m*x_i + c for x_i in x])\n",
    "    cf = CostFunction(m, c, X_train, y_train)\n",
    "    plt.title(f'Iteration #{i} || Cost Function Value : {cf}')\n",
    "    plt.xlabel('X value')\n",
    "    plt.ylabel('Y value')        \n",
    "\n",
    "anim = animation.FuncAnimation(fig, animate, fargs=(m,c), interval = 100)\n",
    "\n",
    "#anim.save('/home/choubeyji/Desktop/a.gif',writer='imagemagick', fps=60)\n",
    "from IPython.display import HTML\n",
    "from matplotlib import rc, rcParams\n",
    "rc('animation', html='html5')\n",
    "rcParams['animation.writer'] = 'imagemagick'\n",
    "\n",
    "#plt.show()\n",
    "HTML(anim.to_html5_video())\n"
   ]
  },
  {
   "cell_type": "code",
   "execution_count": null,
   "metadata": {},
   "outputs": [],
   "source": [
    "def anim3d(i,m,c) :\n",
    "    alpha = 0.0001\n",
    "    m,c = GradientDescent(alpha, X_train, y_train)\n",
    "\n",
    "anim = animation.FuncAnimation(fig, anim3d, fargs=(m,c), interval = 100)\n"
   ]
  },
  {
   "cell_type": "code",
   "execution_count": 18,
   "metadata": {},
   "outputs": [
    {
     "data": {
      "image/png": "[encoded data removed]",
      "text/plain": [
       "<Figure size 432x288 with 1 Axes>"
      ]
     },
     "metadata": {},
     "output_type": "display_data"
    }
   ],
   "source": [
    "from mpl_toolkits.mplot3d import Axes3D\n",
    "import numpy as np\n",
    "import matplotlib.pyplot as plt\n",
    "import collections\n",
    "from sklearn.model_selection import train_test_split\n",
    "\n",
    "\n",
    "def error(m, b, points):\n",
    "    #totalError = 0\n",
    "    #for i in range(0, len(points)):\n",
    "    #    totalError += (points[i].y - (m * points[i].x + b)) ** 2\n",
    "    #return totalError / float(len(points))\n",
    "    ratio = (1/2)*((len(points)))\n",
    "    summation = 0\n",
    "    for i in range(len(points)) :  \n",
    "        summation = summation + (m*points[i].x + b - points[i].y)**2\n",
    "    return summation*ratio\n",
    "\n",
    "X = np.random.randint(-3.0, 3.0, 120)\n",
    "y = np.random.randint(-3.0, 3.0, 120)\n",
    "x, X_test, y, y_test = train_test_split(X,y)\n",
    "x = np.asarray(x)\n",
    "y = np.asarray(y)\n",
    "Point = collections.namedtuple('Point', ['x', 'y'])\n",
    "\n",
    "m, b = 3, 2\n",
    "noise = np.random.random(x.size)\n",
    "points = [Point(xp, m*xp+b+err) for xp,err in zip(x, noise)]\n",
    "\n",
    "fig = plt.figure()\n",
    "ax = fig.add_subplot(111, projection='3d')\n",
    "\n",
    "ms = np.linspace(2.0, 4.0, 10)\n",
    "bs = np.linspace(1.5, 2.5, 10)\n",
    "\n",
    "M, B = np.meshgrid(ms, bs)\n",
    "zs = np.array([error(mp, bp, points) \n",
    "               for mp, bp in zip(np.ravel(M), np.ravel(B))])\n",
    "Z = zs.reshape(M.shape)\n",
    "\n",
    "ax.plot_surface(M, B, Z, rstride=1, cstride=1, color='b', alpha=0.5)\n",
    "\n",
    "ax.set_xlabel('m')\n",
    "ax.set_ylabel('c')\n",
    "\n",
    "ax.set_zlabel('Cost Function Value')\n",
    "\n",
    "plt.show()\n"
   ]
  },
  {
   "cell_type": "code",
   "execution_count": 12,
   "metadata": {},
   "outputs": [
    {
     "data": {
      "image/png": "[encoded data removed]",
      "text/plain": [
       "<Figure size 432x288 with 1 Axes>"
      ]
     },
     "metadata": {},
     "output_type": "display_data"
    }
   ],
   "source": [
    "x = []\n",
    "y = []\n",
    "for i in range(len(points)) : \n",
    "    x.append(points[i].x)\n",
    "    y.append(points[i].y)\n",
    "plt.scatter(x,y)\n",
    "plt.show()"
   ]
  }
 ],
 "metadata": {
  "kernelspec": {
   "display_name": "Python 3",
   "language": "python",
   "name": "python3"
  },
  "language_info": {
   "codemirror_mode": {
    "name": "ipython",
    "version": 3
   },
   "file_extension": ".py",
   "mimetype": "text/x-python",
   "name": "python",
   "nbconvert_exporter": "python",
   "pygments_lexer": "ipython3",
   "version": "3.6.5"
  }
 },
 "nbformat": 4,
 "nbformat_minor": 2
}
